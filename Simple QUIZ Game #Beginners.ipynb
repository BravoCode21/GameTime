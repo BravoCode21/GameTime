{
 "cells": [
  {
   "cell_type": "markdown",
   "id": "a804ec74",
   "metadata": {},
   "source": [
    "# SIMPLE QUIZ GAME"
   ]
  },
  {
   "cell_type": "markdown",
   "id": "5cfb780e",
   "metadata": {},
   "source": [
    "Simple Welcome Note and Initialization"
   ]
  },
  {
   "cell_type": "code",
   "execution_count": null,
   "id": "651655bb",
   "metadata": {},
   "outputs": [],
   "source": [
    "print('Welcome to my computer game')\n",
    "\n",
    "playing = input(\"DO you wanna play? \")\n",
    "score = 0\n",
    "if playing  != \"yes\":\n",
    "    quit()\n",
    "\n",
    "print(\"Okay\")\n",
    "\n"
   ]
  },
  {
   "cell_type": "markdown",
   "id": "065f7775",
   "metadata": {},
   "source": [
    "If Statements"
   ]
  },
  {
   "cell_type": "code",
   "execution_count": null,
   "id": "20f875d6",
   "metadata": {},
   "outputs": [],
   "source": [
    "\n",
    "\n",
    "answer =input(\"what does a CPU stand for? \")\n",
    "\n",
    "if answer.lower() == \"central processing unit\":\n",
    "    print('Correct')\n",
    "    score += 1\n",
    "else:\n",
    "    print('wrong!')\n",
    "    \n",
    "answer =input(\"what does a GPU stand for? \")\n",
    "\n",
    "if answer.lower() == \"Graphical processing unit \":\n",
    "    print('Correct')\n",
    "    score += 1\n",
    "else:\n",
    "    print('wrong!')\n",
    "\n",
    "answer =input(\"what does a RAM stand for? \")\n",
    "\n",
    "if answer.lower() == \"Random Access Memory \":\n",
    "    print('Correct')\n",
    "    score += 1\n",
    "else:\n",
    "    print('wrong!')\n",
    "    \n",
    "answer =input(\"what does a PSU? \")\n",
    "\n",
    "if answer.lower() == \"processing unit \":\n",
    "    print('Correct')\n",
    "    score += 1\n",
    "else:\n",
    "    print('wrong!')"
   ]
  },
  {
   "cell_type": "markdown",
   "id": "fd9c86ed",
   "metadata": {},
   "source": [
    "Computation of the Score"
   ]
  },
  {
   "cell_type": "code",
   "execution_count": null,
   "id": "14b93a41",
   "metadata": {},
   "outputs": [],
   "source": [
    "print(\"you got \" + str((score/4)*100) + \"%\")"
   ]
  }
 ],
 "metadata": {
  "kernelspec": {
   "display_name": "Python 3",
   "language": "python",
   "name": "python3"
  },
  "language_info": {
   "codemirror_mode": {
    "name": "ipython",
    "version": 3
   },
   "file_extension": ".py",
   "mimetype": "text/x-python",
   "name": "python",
   "nbconvert_exporter": "python",
   "pygments_lexer": "ipython3",
   "version": "3.8.8"
  }
 },
 "nbformat": 4,
 "nbformat_minor": 5
}
